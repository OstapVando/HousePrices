{
 "cells": [
  {
   "cell_type": "code",
   "execution_count": null,
   "metadata": {},
   "outputs": [],
   "source": [
    "#import libraries\n",
    "\n",
    "\n",
    "import numpy as np\n",
    "import pandas as pd\n",
    "import matplotlib.pyplot as plt\n",
    "import seaborn as sns\n",
    "\n",
    "%matplotlib inline"
   ]
  },
  {
   "cell_type": "markdown",
   "metadata": {},
   "source": [
    "### Coppied code for data preparations"
   ]
  },
  {
   "cell_type": "code",
   "execution_count": null,
   "metadata": {},
   "outputs": [],
   "source": [
    "#import data\n",
    "train = pd.read_csv('train.csv')\n",
    "test = pd.read_csv('test.csv')\n",
    "\n",
    "#lets create two new dataframes without null-values\n",
    "train_ready = pd.DataFrame()\n",
    "test_ready = pd.DataFrame()\n",
    "def NullHandling(feature):\n",
    "    #print(feature)\n",
    "    nulls = train[feature].isnull().sum() + test[feature].isnull().sum()\n",
    "    print(feature, ' has ', nulls, ' nulls')\n",
    "    if nulls == 0:\n",
    "        print(feature, ' is fine')\n",
    "        train_ready[feature] = train[feature]\n",
    "        test_ready[feature] = test[feature]\n",
    "    else :\n",
    "        if nulls > 1500:\n",
    "                print(feature, ' was dropped')\n",
    "        else:\n",
    "            if str(train[feature].squeeze().dtype) == 'object':\n",
    "                train_ready[feature] = train[feature].fillna(train[feature].mode()[0])\n",
    "                test_ready[feature] = test[feature].fillna(test[feature].mode()[0])\n",
    "                print(feature, ' filled with mode-values')\n",
    "            else:\n",
    "                train_ready[feature] = train[feature].fillna(train[feature].mean())\n",
    "                test_ready[feature] = test[feature].fillna(test[feature].mean())\n",
    "                print(feature, ' missing values were filled by mean-value')\n",
    "                 \n",
    "features = list(train.columns)\n",
    "features.pop()\n",
    "for feature in features:\n",
    "    NullHandling(feature=feature)\n",
    "\n",
    "\n",
    "# add house prices to train set\n",
    "train_ready['SalePrice'] = train['SalePrice']\n",
    "\n",
    "#rename train_ready and test_ready to train an test\n",
    "train = train_ready\n",
    "test = test_ready\n",
    "\n",
    "#lets get a list of features with categorical data\n",
    "features = list(test.columns)\n",
    "cat_features = []\n",
    "for feature in features:\n",
    "    if str(test[feature].squeeze().dtype) == 'object':\n",
    "        cat_features.append(feature)\n",
    "\n",
    "#one-hot encoding\n",
    "def CategoryHandling(dataframe, feature):\n",
    "    values = dataframe[feature].unique()\n",
    "    for value in values:\n",
    "        name = str(feature) + ':' + str(value)\n",
    "        dataframe.loc[dataframe[feature]==value, name] = 1\n",
    "        dataframe.loc[dataframe[feature]!=value, name] = 0\n",
    "        dataframe.drop(columns=[feature])\n",
    "\n",
    "#prepare train-set\n",
    "for feature in cat_features:\n",
    "    CategoryHandling(dataframe=train, feature=feature)\n",
    "train.drop(columns=cat_features, inplace=True)\n",
    "\n",
    "#prepare test-set\n",
    "for feature in cat_features:\n",
    "    CategoryHandling(dataframe=test, feature=feature)\n",
    "test.drop(columns=cat_features, inplace=True)\n",
    "\n",
    "try:\n",
    "    train.drop(columns=cat_features)\n",
    "    test.drop(columns=cat_features)\n",
    "except:\n",
    "    pass\n",
    "\n",
    "train_features = list(train.columns)\n",
    "test_features = list(test.columns)\n",
    "lonely_features = []\n",
    "for feature in test_features:\n",
    "    if feature in train_features:\n",
    "        pass\n",
    "    else:\n",
    "        lonely_features.append(feature)\n",
    "\n",
    "\n",
    "# filling the missing features into 'test'\n",
    "for feature in list(train.columns):\n",
    "    if feature not in list(test.columns):\n",
    "        test[feature] =  0\n",
    "        print(feature)\n",
    "    else: \n",
    "        pass\n",
    "# test.drop(['SalePrice'], axis=1)\n",
    "\n",
    "\n",
    "#drop 'SalePrice from test set\n",
    "test.drop(columns=['SalePrice'], inplace=True)\n",
    "\n"
   ]
  },
  {
   "cell_type": "markdown",
   "metadata": {},
   "source": [
    "### Data normalization"
   ]
  },
  {
   "cell_type": "markdown",
   "metadata": {},
   "source": []
  }
 ],
 "metadata": {
  "kernelspec": {
   "display_name": "Python 3.10.1 64-bit",
   "language": "python",
   "name": "python3"
  },
  "language_info": {
   "name": "python",
   "version": "3.10.1"
  },
  "orig_nbformat": 4,
  "vscode": {
   "interpreter": {
    "hash": "477a6bed23c99b80e91d40099cb0cca7e2d7188bc8a3dfa3f686796a45a4a7ce"
   }
  }
 },
 "nbformat": 4,
 "nbformat_minor": 2
}
